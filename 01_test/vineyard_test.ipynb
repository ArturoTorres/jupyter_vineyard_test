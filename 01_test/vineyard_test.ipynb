{
 "cells": [
  {
   "cell_type": "code",
   "execution_count": 1,
   "id": "e388e115-9f28-4f98-8abb-db3b0b1b8147",
   "metadata": {},
   "outputs": [],
   "source": [
    "library(vineyard)"
   ]
  },
  {
   "cell_type": "code",
   "execution_count": 2,
   "id": "41990fd9-354c-40a0-9e4c-1c60cfee5f34",
   "metadata": {},
   "outputs": [],
   "source": [
    "folder.data <- \"~/Documents/02_working/3-Production/02_projects/02_VinoManAOP/08_vineyard_wps/datasets/\""
   ]
  },
  {
   "cell_type": "code",
   "execution_count": 3,
   "id": "36de885a-2cce-4603-b224-82d0b85d6cf3",
   "metadata": {},
   "outputs": [
    {
     "data": {
      "text/html": [
       "<table>\n",
       "<caption>A data.frame: 6 × 14</caption>\n",
       "<thead>\n",
       "\t<tr><th></th><th scope=col>ta</th><th scope=col>mo</th><th scope=col>jahr</th><th scope=col>tasmax</th><th scope=col>tas</th><th scope=col>tasmin</th><th scope=col>pr</th><th scope=col>hurs</th><th scope=col>ps</th><th scope=col>vapp</th><th scope=col>sund</th><th scope=col>clt</th><th scope=col>rsds</th><th scope=col>sfcWind</th></tr>\n",
       "\t<tr><th></th><th scope=col>&lt;int&gt;</th><th scope=col>&lt;int&gt;</th><th scope=col>&lt;int&gt;</th><th scope=col>&lt;dbl&gt;</th><th scope=col>&lt;dbl&gt;</th><th scope=col>&lt;dbl&gt;</th><th scope=col>&lt;dbl&gt;</th><th scope=col>&lt;dbl&gt;</th><th scope=col>&lt;dbl&gt;</th><th scope=col>&lt;dbl&gt;</th><th scope=col>&lt;dbl&gt;</th><th scope=col>&lt;dbl&gt;</th><th scope=col>&lt;dbl&gt;</th><th scope=col>&lt;dbl&gt;</th></tr>\n",
       "</thead>\n",
       "<tbody>\n",
       "\t<tr><th scope=row>1</th><td>1</td><td>1</td><td>1950</td><td>1.0</td><td>-3.1</td><td>-5.0</td><td>0.0</td><td>82.8</td><td>1000.2</td><td>3.9</td><td>5.3</td><td>0.8</td><td>493.2</td><td>2.0</td></tr>\n",
       "\t<tr><th scope=row>2</th><td>2</td><td>1</td><td>1950</td><td>0.8</td><td>-1.4</td><td>-7.9</td><td>0.0</td><td>86.5</td><td> 985.2</td><td>4.5</td><td>0.0</td><td>7.2</td><td>264.3</td><td>0.7</td></tr>\n",
       "\t<tr><th scope=row>3</th><td>3</td><td>1</td><td>1950</td><td>4.1</td><td> 2.1</td><td> 0.5</td><td>1.4</td><td>96.9</td><td> 981.4</td><td>6.2</td><td>0.1</td><td>6.2</td><td>191.9</td><td>5.1</td></tr>\n",
       "\t<tr><th scope=row>4</th><td>4</td><td>1</td><td>1950</td><td>4.4</td><td> 2.5</td><td> 1.3</td><td>7.0</td><td>91.6</td><td> 978.5</td><td>6.3</td><td>0.0</td><td>7.9</td><td>193.4</td><td>6.3</td></tr>\n",
       "\t<tr><th scope=row>5</th><td>5</td><td>1</td><td>1950</td><td>6.5</td><td> 5.8</td><td> 2.0</td><td>2.8</td><td>99.5</td><td> 985.1</td><td>8.5</td><td>0.0</td><td>7.9</td><td>150.3</td><td>3.2</td></tr>\n",
       "\t<tr><th scope=row>6</th><td>6</td><td>1</td><td>1950</td><td>6.8</td><td> 3.8</td><td> 2.1</td><td>0.0</td><td>89.7</td><td> 980.8</td><td>6.8</td><td>0.0</td><td>6.2</td><td>215.1</td><td>4.7</td></tr>\n",
       "</tbody>\n",
       "</table>\n"
      ],
      "text/latex": [
       "A data.frame: 6 × 14\n",
       "\\begin{tabular}{r|llllllllllllll}\n",
       "  & ta & mo & jahr & tasmax & tas & tasmin & pr & hurs & ps & vapp & sund & clt & rsds & sfcWind\\\\\n",
       "  & <int> & <int> & <int> & <dbl> & <dbl> & <dbl> & <dbl> & <dbl> & <dbl> & <dbl> & <dbl> & <dbl> & <dbl> & <dbl>\\\\\n",
       "\\hline\n",
       "\t1 & 1 & 1 & 1950 & 1.0 & -3.1 & -5.0 & 0.0 & 82.8 & 1000.2 & 3.9 & 5.3 & 0.8 & 493.2 & 2.0\\\\\n",
       "\t2 & 2 & 1 & 1950 & 0.8 & -1.4 & -7.9 & 0.0 & 86.5 &  985.2 & 4.5 & 0.0 & 7.2 & 264.3 & 0.7\\\\\n",
       "\t3 & 3 & 1 & 1950 & 4.1 &  2.1 &  0.5 & 1.4 & 96.9 &  981.4 & 6.2 & 0.1 & 6.2 & 191.9 & 5.1\\\\\n",
       "\t4 & 4 & 1 & 1950 & 4.4 &  2.5 &  1.3 & 7.0 & 91.6 &  978.5 & 6.3 & 0.0 & 7.9 & 193.4 & 6.3\\\\\n",
       "\t5 & 5 & 1 & 1950 & 6.5 &  5.8 &  2.0 & 2.8 & 99.5 &  985.1 & 8.5 & 0.0 & 7.9 & 150.3 & 3.2\\\\\n",
       "\t6 & 6 & 1 & 1950 & 6.8 &  3.8 &  2.1 & 0.0 & 89.7 &  980.8 & 6.8 & 0.0 & 6.2 & 215.1 & 4.7\\\\\n",
       "\\end{tabular}\n"
      ],
      "text/markdown": [
       "\n",
       "A data.frame: 6 × 14\n",
       "\n",
       "| <!--/--> | ta &lt;int&gt; | mo &lt;int&gt; | jahr &lt;int&gt; | tasmax &lt;dbl&gt; | tas &lt;dbl&gt; | tasmin &lt;dbl&gt; | pr &lt;dbl&gt; | hurs &lt;dbl&gt; | ps &lt;dbl&gt; | vapp &lt;dbl&gt; | sund &lt;dbl&gt; | clt &lt;dbl&gt; | rsds &lt;dbl&gt; | sfcWind &lt;dbl&gt; |\n",
       "|---|---|---|---|---|---|---|---|---|---|---|---|---|---|---|\n",
       "| 1 | 1 | 1 | 1950 | 1.0 | -3.1 | -5.0 | 0.0 | 82.8 | 1000.2 | 3.9 | 5.3 | 0.8 | 493.2 | 2.0 |\n",
       "| 2 | 2 | 1 | 1950 | 0.8 | -1.4 | -7.9 | 0.0 | 86.5 |  985.2 | 4.5 | 0.0 | 7.2 | 264.3 | 0.7 |\n",
       "| 3 | 3 | 1 | 1950 | 4.1 |  2.1 |  0.5 | 1.4 | 96.9 |  981.4 | 6.2 | 0.1 | 6.2 | 191.9 | 5.1 |\n",
       "| 4 | 4 | 1 | 1950 | 4.4 |  2.5 |  1.3 | 7.0 | 91.6 |  978.5 | 6.3 | 0.0 | 7.9 | 193.4 | 6.3 |\n",
       "| 5 | 5 | 1 | 1950 | 6.5 |  5.8 |  2.0 | 2.8 | 99.5 |  985.1 | 8.5 | 0.0 | 7.9 | 150.3 | 3.2 |\n",
       "| 6 | 6 | 1 | 1950 | 6.8 |  3.8 |  2.1 | 0.0 | 89.7 |  980.8 | 6.8 | 0.0 | 6.2 | 215.1 | 4.7 |\n",
       "\n"
      ],
      "text/plain": [
       "  ta mo jahr tasmax tas  tasmin pr  hurs ps     vapp sund clt rsds  sfcWind\n",
       "1 1  1  1950 1.0    -3.1 -5.0   0.0 82.8 1000.2 3.9  5.3  0.8 493.2 2.0    \n",
       "2 2  1  1950 0.8    -1.4 -7.9   0.0 86.5  985.2 4.5  0.0  7.2 264.3 0.7    \n",
       "3 3  1  1950 4.1     2.1  0.5   1.4 96.9  981.4 6.2  0.1  6.2 191.9 5.1    \n",
       "4 4  1  1950 4.4     2.5  1.3   7.0 91.6  978.5 6.3  0.0  7.9 193.4 6.3    \n",
       "5 5  1  1950 6.5     5.8  2.0   2.8 99.5  985.1 8.5  0.0  7.9 150.3 3.2    \n",
       "6 6  1  1950 6.8     3.8  2.1   0.0 89.7  980.8 6.8  0.0  6.2 215.1 4.7    "
      ]
     },
     "metadata": {},
     "output_type": "display_data"
    }
   ],
   "source": [
    "# Read data from plain text file\n",
    "data <- read.csv(paste0(folder.data, \"/climate/remich.dat\"), sep = \"\")\n",
    "\n",
    "head(data)"
   ]
  },
  {
   "cell_type": "code",
   "execution_count": null,
   "id": "1c4bd678-65ed-4a17-a629-e1ea2e969ce8",
   "metadata": {},
   "outputs": [],
   "source": []
  }
 ],
 "metadata": {
  "kernelspec": {
   "display_name": "R",
   "language": "R",
   "name": "ir"
  },
  "language_info": {
   "codemirror_mode": "r",
   "file_extension": ".r",
   "mimetype": "text/x-r-source",
   "name": "R",
   "pygments_lexer": "r",
   "version": "3.6.3"
  }
 },
 "nbformat": 4,
 "nbformat_minor": 5
}
